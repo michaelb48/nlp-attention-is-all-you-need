{
 "cells": [
  {
   "cell_type": "code",
   "execution_count": 16,
   "id": "c17b1ab8-5d80-408a-8052-eb2a39c95e30",
   "metadata": {},
   "outputs": [],
   "source": [
    "import torch\n",
    "import copy\n",
    "import os\n",
    "\n",
    "def get_model_paths(path_to_results, model_name_starts_with):\n",
    "    all_files = os.listdir(path_to_results)\n",
    "    model_files = [file for file in all_files if file.startswith(model_name_starts_with)]\n",
    "    model_files = [os.path.join(path_to_results, filename) for filename in model_files]\n",
    "    print(f\"Loading {len(model_files)} files from model:\")\n",
    "    for file in model_files:\n",
    "        print(file)\n",
    "    print(\"\")\n",
    "    return model_files\n",
    "\n",
    "def load_state_dicts(file_paths):\n",
    "    state_dicts = []\n",
    "    print(\"Loading model state dicts:\")\n",
    "    for file in file_paths:\n",
    "        loaded_dict = torch.load(file, map_location=\"cpu\")\n",
    "        if \"model_state_dict\" in loaded_dict:\n",
    "            print(f\"Extracting 'model_state_dict' from checkpoint in {file}\")\n",
    "            state_dicts.append(loaded_dict[\"model_state_dict\"])\n",
    "    print(\"\")\n",
    "    return state_dicts\n",
    "\n",
    "def average_model_weights(state_dicts):\n",
    "    \"\"\"\n",
    "    Averages the weights from multiple state_dicts.\n",
    "\n",
    "    Args:\n",
    "        state_dicts: List of state_dict dictionaries\n",
    "\n",
    "    Returns:\n",
    "        Averaged state_dict.\n",
    "    \"\"\"\n",
    "    avg_state_dict = copy.deepcopy(state_dicts[0])\n",
    "    print(\"Averaging model...\")\n",
    "    for key in avg_state_dict.keys():\n",
    "        for state_dict in state_dicts[1:]:\n",
    "            avg_state_dict[key] += state_dict[key]\n",
    "        avg_state_dict[key] /= len(state_dicts)\n",
    "    return avg_state_dict\n",
    "\n",
    "def save_avg_model_weights(save_path, save_name, avg_state_dict):\n",
    "    final_save_path = os.path.join(save_path, save_name)\n",
    "    torch.save({'model_state_dict': avg_state_dict}, final_save_path)\n",
    "    print(f\"Averaged model saved to {final_save_path}\\n\")"
   ]
  },
  {
   "cell_type": "markdown",
   "id": "17033165-235d-4121-8e76-a5f958d37a0e",
   "metadata": {},
   "source": [
    "# Loading, averaging and saving the weights"
   ]
  },
  {
   "cell_type": "code",
   "execution_count": 17,
   "id": "7baa4e42-7659-4958-8973-d9bbd048c060",
   "metadata": {},
   "outputs": [
    {
     "name": "stdout",
     "output_type": "stream",
     "text": [
      "Loading 19 files from model:\n",
      "training-results/models/ex_config-1_model_epoch_5_step_7216.pth\n",
      "training-results/models/ex_config-1_model_epoch_6.pth\n",
      "training-results/models/ex_config-1_model_epoch_0_step_8228.pth\n",
      "training-results/models/ex_config-1_model_epoch_2_step_7243.pth\n",
      "training-results/models/ex_config-1_model_epoch_1_step_7807.pth\n",
      "training-results/models/ex_config-1_model_epoch_8.pth\n",
      "training-results/models/ex_config-1_model_epoch_3.pth\n",
      "training-results/models/ex_config-1_model_epoch_9.pth\n",
      "training-results/models/ex_config-1_model_epoch_8_step_7207.pth\n",
      "training-results/models/ex_config-1_model_epoch_5.pth\n",
      "training-results/models/ex_config-1_model_epoch_7_step_7241.pth\n",
      "training-results/models/ex_config-1_model_epoch_9_step_6907.pth\n",
      "training-results/models/ex_config-1_model_epoch_0.pth\n",
      "training-results/models/ex_config-1_model_epoch_2.pth\n",
      "training-results/models/ex_config-1_model_epoch_end.pth\n",
      "training-results/models/ex_config-1_model_epoch_1.pth\n",
      "training-results/models/ex_config-1_model_epoch_4_step_7060.pth\n",
      "training-results/models/ex_config-1_model_epoch_3_step_7562.pth\n",
      "training-results/models/ex_config-1_model_epoch_6_step_7664.pth\n",
      "\n",
      "Loading model state dicts:\n",
      "Extracting 'model_state_dict' from checkpoint in training-results/models/ex_config-1_model_epoch_5_step_7216.pth\n",
      "Extracting 'model_state_dict' from checkpoint in training-results/models/ex_config-1_model_epoch_6.pth\n",
      "Extracting 'model_state_dict' from checkpoint in training-results/models/ex_config-1_model_epoch_0_step_8228.pth\n",
      "Extracting 'model_state_dict' from checkpoint in training-results/models/ex_config-1_model_epoch_2_step_7243.pth\n",
      "Extracting 'model_state_dict' from checkpoint in training-results/models/ex_config-1_model_epoch_1_step_7807.pth\n",
      "Extracting 'model_state_dict' from checkpoint in training-results/models/ex_config-1_model_epoch_8.pth\n",
      "Extracting 'model_state_dict' from checkpoint in training-results/models/ex_config-1_model_epoch_3.pth\n",
      "Extracting 'model_state_dict' from checkpoint in training-results/models/ex_config-1_model_epoch_9.pth\n",
      "Extracting 'model_state_dict' from checkpoint in training-results/models/ex_config-1_model_epoch_8_step_7207.pth\n",
      "Extracting 'model_state_dict' from checkpoint in training-results/models/ex_config-1_model_epoch_5.pth\n",
      "Extracting 'model_state_dict' from checkpoint in training-results/models/ex_config-1_model_epoch_7_step_7241.pth\n",
      "Extracting 'model_state_dict' from checkpoint in training-results/models/ex_config-1_model_epoch_9_step_6907.pth\n",
      "Extracting 'model_state_dict' from checkpoint in training-results/models/ex_config-1_model_epoch_0.pth\n",
      "Extracting 'model_state_dict' from checkpoint in training-results/models/ex_config-1_model_epoch_2.pth\n",
      "Extracting 'model_state_dict' from checkpoint in training-results/models/ex_config-1_model_epoch_end.pth\n",
      "Extracting 'model_state_dict' from checkpoint in training-results/models/ex_config-1_model_epoch_1.pth\n",
      "Extracting 'model_state_dict' from checkpoint in training-results/models/ex_config-1_model_epoch_4_step_7060.pth\n",
      "Extracting 'model_state_dict' from checkpoint in training-results/models/ex_config-1_model_epoch_3_step_7562.pth\n",
      "Extracting 'model_state_dict' from checkpoint in training-results/models/ex_config-1_model_epoch_6_step_7664.pth\n",
      "\n",
      "Averaging model...\n",
      "Averaged model saved to test-results/models/ex_config-1_avg_weights_model.pth\n",
      "\n"
     ]
    }
   ],
   "source": [
    "training_results_path = \"training-results/models/\"\n",
    "save_path = \"test-results/models\"\n",
    "\n",
    "model_1_files = get_model_paths(training_results_path, \"ex_config-1\")\n",
    "model_1_state_dicts = load_state_dicts(model_1_files)\n",
    "model_1_avg_weights = average_model_weights(model_1_state_dicts)\n",
    "save_avg_model_weights(save_path, \"ex_config-1_avg_weights_model.pth\", model_1_avg_weights)"
   ]
  },
  {
   "cell_type": "code",
   "execution_count": 18,
   "id": "95d3879d-8ad5-4753-846a-3166548c1a9a",
   "metadata": {},
   "outputs": [
    {
     "name": "stdout",
     "output_type": "stream",
     "text": [
      "Loading 17 files from model:\n",
      "training-results/models/ex_config-2_model_epoch_7.pth\n",
      "training-results/models/ex_config-2_model_epoch_3_step_7324.pth\n",
      "training-results/models/ex_config-2_model_epoch_2_step_8687.pth\n",
      "training-results/models/ex_config-2_model_epoch_0.pth\n",
      "training-results/models/ex_config-2_model_epoch_9.pth\n",
      "training-results/models/ex_config-2_model_epoch_end.pth\n",
      "training-results/models/ex_config-2_model_epoch_7_step_8245.pth\n",
      "training-results/models/ex_config-2_model_epoch_0_step_8089.pth\n",
      "training-results/models/ex_config-2_model_epoch_5.pth\n",
      "training-results/models/ex_config-2_model_epoch_2.pth\n",
      "training-results/models/ex_config-2_model_epoch_8_step_8177.pth\n",
      "training-results/models/ex_config-2_model_epoch_4.pth\n",
      "training-results/models/ex_config-2_model_epoch_6.pth\n",
      "training-results/models/ex_config-2_model_epoch_1.pth\n",
      "training-results/models/ex_config-2_model_epoch_3.pth\n",
      "training-results/models/ex_config-2_model_epoch_5_step_7041.pth\n",
      "training-results/models/ex_config-2_model_epoch_6_step_7443.pth\n",
      "\n",
      "Loading model state dicts:\n",
      "Extracting 'model_state_dict' from checkpoint in training-results/models/ex_config-2_model_epoch_7.pth\n",
      "Extracting 'model_state_dict' from checkpoint in training-results/models/ex_config-2_model_epoch_3_step_7324.pth\n",
      "Extracting 'model_state_dict' from checkpoint in training-results/models/ex_config-2_model_epoch_2_step_8687.pth\n",
      "Extracting 'model_state_dict' from checkpoint in training-results/models/ex_config-2_model_epoch_0.pth\n",
      "Extracting 'model_state_dict' from checkpoint in training-results/models/ex_config-2_model_epoch_9.pth\n",
      "Extracting 'model_state_dict' from checkpoint in training-results/models/ex_config-2_model_epoch_end.pth\n",
      "Extracting 'model_state_dict' from checkpoint in training-results/models/ex_config-2_model_epoch_7_step_8245.pth\n",
      "Extracting 'model_state_dict' from checkpoint in training-results/models/ex_config-2_model_epoch_0_step_8089.pth\n",
      "Extracting 'model_state_dict' from checkpoint in training-results/models/ex_config-2_model_epoch_5.pth\n",
      "Extracting 'model_state_dict' from checkpoint in training-results/models/ex_config-2_model_epoch_2.pth\n",
      "Extracting 'model_state_dict' from checkpoint in training-results/models/ex_config-2_model_epoch_8_step_8177.pth\n",
      "Extracting 'model_state_dict' from checkpoint in training-results/models/ex_config-2_model_epoch_4.pth\n",
      "Extracting 'model_state_dict' from checkpoint in training-results/models/ex_config-2_model_epoch_6.pth\n",
      "Extracting 'model_state_dict' from checkpoint in training-results/models/ex_config-2_model_epoch_1.pth\n",
      "Extracting 'model_state_dict' from checkpoint in training-results/models/ex_config-2_model_epoch_3.pth\n",
      "Extracting 'model_state_dict' from checkpoint in training-results/models/ex_config-2_model_epoch_5_step_7041.pth\n",
      "Extracting 'model_state_dict' from checkpoint in training-results/models/ex_config-2_model_epoch_6_step_7443.pth\n",
      "\n",
      "Averaging model...\n",
      "Averaged model saved to test-results/models/ex_config-2_avg_weights_model.pth\n",
      "\n"
     ]
    }
   ],
   "source": [
    "model_2_files = get_model_paths(training_results_path, \"ex_config-2\")\n",
    "model_2_state_dicts = load_state_dicts(model_2_files)\n",
    "model_2_avg_weights = average_model_weights(model_2_state_dicts)\n",
    "save_avg_model_weights(save_path, \"ex_config-2_avg_weights_model.pth\", model_2_avg_weights)"
   ]
  },
  {
   "cell_type": "code",
   "execution_count": null,
   "id": "6d99f84f-fea0-4af6-aad5-25a64a41acb4",
   "metadata": {},
   "outputs": [],
   "source": [
    "# model_3_files = get_model_paths(training_results_path, \"ex_config-3\")\n",
    "# model_3_state_dicts = load_state_dicts(model_3_files)\n",
    "# model_3_avg_weights = average_model_weights(model_3_state_dicts)\n",
    "# save_avg_model_weights(save_path, \"ex_config-3_avg_weights_model\", model_3_avg_weights)"
   ]
  },
  {
   "cell_type": "code",
   "execution_count": 19,
   "id": "42cff71e-ab66-4aed-a301-7f1639a7d7e4",
   "metadata": {},
   "outputs": [
    {
     "name": "stdout",
     "output_type": "stream",
     "text": [
      "Loading 14 files from model:\n",
      "training-results/models/ex_config-4_model_epoch_8.pth\n",
      "training-results/models/ex_config-4_model_epoch_0.pth\n",
      "training-results/models/ex_config-4_model_epoch_9_step_8276.pth\n",
      "training-results/models/ex_config-4_model_epoch_2.pth\n",
      "training-results/models/ex_config-4_model_epoch_3.pth\n",
      "training-results/models/ex_config-4_model_epoch_2_step_5966.pth\n",
      "training-results/models/ex_config-4_model_epoch_9.pth\n",
      "training-results/models/ex_config-4_model_epoch_7.pth\n",
      "training-results/models/ex_config-4_model_epoch_6.pth\n",
      "training-results/models/ex_config-4_model_epoch_4.pth\n",
      "training-results/models/ex_config-4_model_epoch_end.pth\n",
      "training-results/models/ex_config-4_model_epoch_8_step_5661.pth\n",
      "training-results/models/ex_config-4_model_epoch_6_step_5725.pth\n",
      "training-results/models/ex_config-4_model_epoch_1.pth\n",
      "\n",
      "Loading model state dicts:\n",
      "Extracting 'model_state_dict' from checkpoint in training-results/models/ex_config-4_model_epoch_8.pth\n",
      "Extracting 'model_state_dict' from checkpoint in training-results/models/ex_config-4_model_epoch_0.pth\n",
      "Extracting 'model_state_dict' from checkpoint in training-results/models/ex_config-4_model_epoch_9_step_8276.pth\n",
      "Extracting 'model_state_dict' from checkpoint in training-results/models/ex_config-4_model_epoch_2.pth\n",
      "Extracting 'model_state_dict' from checkpoint in training-results/models/ex_config-4_model_epoch_3.pth\n",
      "Extracting 'model_state_dict' from checkpoint in training-results/models/ex_config-4_model_epoch_2_step_5966.pth\n",
      "Extracting 'model_state_dict' from checkpoint in training-results/models/ex_config-4_model_epoch_9.pth\n",
      "Extracting 'model_state_dict' from checkpoint in training-results/models/ex_config-4_model_epoch_7.pth\n",
      "Extracting 'model_state_dict' from checkpoint in training-results/models/ex_config-4_model_epoch_6.pth\n",
      "Extracting 'model_state_dict' from checkpoint in training-results/models/ex_config-4_model_epoch_4.pth\n",
      "Extracting 'model_state_dict' from checkpoint in training-results/models/ex_config-4_model_epoch_end.pth\n",
      "Extracting 'model_state_dict' from checkpoint in training-results/models/ex_config-4_model_epoch_8_step_5661.pth\n",
      "Extracting 'model_state_dict' from checkpoint in training-results/models/ex_config-4_model_epoch_6_step_5725.pth\n",
      "Extracting 'model_state_dict' from checkpoint in training-results/models/ex_config-4_model_epoch_1.pth\n",
      "\n",
      "Averaging model...\n",
      "Averaged model saved to test-results/models/ex_config-4_avg_weights_model.pth\n",
      "\n"
     ]
    }
   ],
   "source": [
    "model_4_files = get_model_paths(training_results_path, \"ex_config-4\")\n",
    "model_4_state_dicts = load_state_dicts(model_4_files)\n",
    "model_4_avg_weights = average_model_weights(model_4_state_dicts)\n",
    "save_avg_model_weights(save_path, \"ex_config-4_avg_weights_model.pth\", model_4_avg_weights)"
   ]
  },
  {
   "cell_type": "code",
   "execution_count": 20,
   "id": "00cae545-5853-4a5e-b4bb-2e7a1dfc5bdf",
   "metadata": {},
   "outputs": [
    {
     "name": "stdout",
     "output_type": "stream",
     "text": [
      "Loading 12 files from model:\n",
      "training-results/models/ex_config-5_model_epoch_1_step_6631.pth\n",
      "training-results/models/ex_config-5_model_epoch_0.pth\n",
      "training-results/models/ex_config-5_model_epoch_8.pth\n",
      "training-results/models/ex_config-5_model_epoch_3.pth\n",
      "training-results/models/ex_config-5_model_epoch_1.pth\n",
      "training-results/models/ex_config-5_model_epoch_4.pth\n",
      "training-results/models/ex_config-5_model_epoch_5.pth\n",
      "training-results/models/ex_config-5_model_epoch_9_step_5655.pth\n",
      "training-results/models/ex_config-5_model_epoch_9.pth\n",
      "training-results/models/ex_config-5_model_epoch_2_step_5444.pth\n",
      "training-results/models/ex_config-5_model_epoch_end.pth\n",
      "training-results/models/ex_config-5_model_epoch_2.pth\n",
      "\n",
      "Loading model state dicts:\n",
      "Extracting 'model_state_dict' from checkpoint in training-results/models/ex_config-5_model_epoch_1_step_6631.pth\n",
      "Extracting 'model_state_dict' from checkpoint in training-results/models/ex_config-5_model_epoch_0.pth\n",
      "Extracting 'model_state_dict' from checkpoint in training-results/models/ex_config-5_model_epoch_8.pth\n",
      "Extracting 'model_state_dict' from checkpoint in training-results/models/ex_config-5_model_epoch_3.pth\n",
      "Extracting 'model_state_dict' from checkpoint in training-results/models/ex_config-5_model_epoch_1.pth\n",
      "Extracting 'model_state_dict' from checkpoint in training-results/models/ex_config-5_model_epoch_4.pth\n",
      "Extracting 'model_state_dict' from checkpoint in training-results/models/ex_config-5_model_epoch_5.pth\n",
      "Extracting 'model_state_dict' from checkpoint in training-results/models/ex_config-5_model_epoch_9_step_5655.pth\n",
      "Extracting 'model_state_dict' from checkpoint in training-results/models/ex_config-5_model_epoch_9.pth\n",
      "Extracting 'model_state_dict' from checkpoint in training-results/models/ex_config-5_model_epoch_2_step_5444.pth\n",
      "Extracting 'model_state_dict' from checkpoint in training-results/models/ex_config-5_model_epoch_end.pth\n",
      "Extracting 'model_state_dict' from checkpoint in training-results/models/ex_config-5_model_epoch_2.pth\n",
      "\n",
      "Averaging model...\n",
      "Averaged model saved to test-results/models/ex_config-5_avg_weights_model.pth\n",
      "\n"
     ]
    }
   ],
   "source": [
    "model_5_files = get_model_paths(training_results_path, \"ex_config-5\")\n",
    "model_5_state_dicts = load_state_dicts(model_5_files)\n",
    "model_5_avg_weights = average_model_weights(model_5_state_dicts)\n",
    "save_avg_model_weights(save_path, \"ex_config-5_avg_weights_model.pth\", model_5_avg_weights)"
   ]
  },
  {
   "cell_type": "code",
   "execution_count": 1,
   "id": "d1ad0ef0-bfa5-40ff-9bf2-02edc91a9402",
   "metadata": {},
   "outputs": [
    {
     "ename": "NameError",
     "evalue": "name 'get_model_paths' is not defined",
     "output_type": "error",
     "traceback": [
      "\u001b[0;31m---------------------------------------------------------------------------\u001b[0m",
      "\u001b[0;31mNameError\u001b[0m                                 Traceback (most recent call last)",
      "Cell \u001b[0;32mIn[1], line 1\u001b[0m\n\u001b[0;32m----> 1\u001b[0m model_1_ext_files \u001b[38;5;241m=\u001b[39m \u001b[43mget_model_paths\u001b[49m(training_results_path, \u001b[38;5;124m\"\u001b[39m\u001b[38;5;124mex_config-1-extension\u001b[39m\u001b[38;5;124m\"\u001b[39m)\n\u001b[1;32m      2\u001b[0m model_1_ext_state_dicts \u001b[38;5;241m=\u001b[39m load_state_dicts(model_1_ext_files)\n\u001b[1;32m      3\u001b[0m model_1_ext_avg_weights \u001b[38;5;241m=\u001b[39m average_model_weights(model_1_ext_state_dicts)\n",
      "\u001b[0;31mNameError\u001b[0m: name 'get_model_paths' is not defined"
     ]
    }
   ],
   "source": [
    "model_1_ext_files = get_model_paths(training_results_path, \"ex_config-1-extension\")\n",
    "model_1_ext_state_dicts = load_state_dicts(model_1_ext_files)\n",
    "model_1_ext_avg_weights = average_model_weights(model_1_ext_state_dicts)\n",
    "save_avg_model_weights(save_path, \"ex_config-1-extension_avg_weights_model\", model_1_ext_avg_weights)"
   ]
  },
  {
   "cell_type": "code",
   "execution_count": null,
   "id": "3cb90c17-9e34-434d-8b57-7e3477db6907",
   "metadata": {},
   "outputs": [],
   "source": []
  }
 ],
 "metadata": {
  "kernelspec": {
   "display_name": "Python 3 (ipykernel)",
   "language": "python",
   "name": "python3"
  },
  "language_info": {
   "codemirror_mode": {
    "name": "ipython",
    "version": 3
   },
   "file_extension": ".py",
   "mimetype": "text/x-python",
   "name": "python",
   "nbconvert_exporter": "python",
   "pygments_lexer": "ipython3",
   "version": "3.11.10"
  }
 },
 "nbformat": 4,
 "nbformat_minor": 5
}
